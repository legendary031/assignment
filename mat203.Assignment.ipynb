{
 "cells": [
  {
   "cell_type": "code",
   "execution_count": null,
   "id": "c998d93d-4664-4a1f-8512-1c538a46ba8e",
   "metadata": {},
   "outputs": [],
   "source": [
    "#PS/ASC/23/0073\n",
    "#PS/ASC/23/0065\n",
    "#PS/ASC/23/0054\n",
    "#PS/ASC/23/0064"
   ]
  },
  {
   "cell_type": "code",
   "execution_count": 90,
   "id": "eaaddcc2-4182-4e7b-84d9-f8230b96f15e",
   "metadata": {},
   "outputs": [
    {
     "name": "stdout",
     "output_type": "stream",
     "text": [
      "[3, 7, 31, 127, 8191, 131071, 524287, 2147483647, 2305843009213693951, 618970019642690137449562111, 162259276829213363391578010288127, 170141183460469231731687303715884105727, 6864797660130609714981900799081393217269435300143305409394463459185543183397656052122559640661454554977296311391480858037121987999716643812574028291115057151, 531137992816767098689588206552468627329593117727031923199444138200403559860852242739162502265229285668889329486246501015346579337652707239409519978766587351943831270835393219031728127]\n"
     ]
    }
   ],
   "source": [
    "from sympy import isprime, primerange\n",
    "def mersenne_primes(count):\n",
    "    \"\"\"Generate the first 'count' Mersennes primes.\"\"\"\n",
    "\n",
    "primes = list(primerange(1, 1000))  #Get a list of prime numbers\n",
    "mersenne_list = []\n",
    "for p in primes:\n",
    "    m_p = 2**p - 1\n",
    "    if isprime(m_p):\n",
    "        mersenne_list.append(m_p)\n",
    "    if len(mersenne_list) == count: break\n",
    "print(mersenne_list) \n",
    "\n",
    "#Get the first 17 Mersenne primes\n",
    "first_17_mersenne_primes = mersenne_primes(17)\n",
    "    "
   ]
  },
  {
   "cell_type": "code",
   "execution_count": 91,
   "id": "9122215b-e77e-4299-b037-f1a08288f4e5",
   "metadata": {},
   "outputs": [],
   "source": [
    "from sympy import mod_inverse"
   ]
  },
  {
   "cell_type": "code",
   "execution_count": 92,
   "id": "d85264da-615c-4d70-91dc-eb5032ef64ad",
   "metadata": {},
   "outputs": [
    {
     "name": "stdout",
     "output_type": "stream",
     "text": [
      "Public Key: (n=33, e=7)\n",
      "Private Key: (n=33, d=3)\n",
      "Original Message: 5\n",
      "Encrypted Message: 14\n",
      "Decrypted Message: 5\n"
     ]
    }
   ],
   "source": [
    "# Given values\n",
    "p = 3\n",
    "q = 11\n",
    "e = 7\n",
    "\n",
    "# Compute n and phi(n)\n",
    "n = p * q\n",
    "phi_n = (p - 1) * (q - 1)\n",
    "\n",
    "# Compute d (modular inverse of e modulo phi_n)\n",
    "d = mod_inverse(e, phi_n)\n",
    "\n",
    "# Print results\n",
    "print(f\"Public Key: (n={n}, e={e})\")\n",
    "print(f\"Private Key: (n={n}, d={d})\")\n",
    "\n",
    "# Verification: Encrypt and Decrypt a message\n",
    "message = 5  # Example message\n",
    "ciphertext = pow(message, e, n)  # Encryption: c = m^e mod n\n",
    "decrypted_message = pow(ciphertext, d, n)  # Decryption: m = c^d mod n\n",
    "\n",
    "print(f\"Original Message: {message}\")\n",
    "print(f\"Encrypted Message: {ciphertext}\")\n",
    "print(f\"Decrypted Message: {decrypted_message}\")"
   ]
  },
  {
   "cell_type": "code",
   "execution_count": null,
   "id": "538328c8-672b-4f8c-b40c-dc26e737320e",
   "metadata": {},
   "outputs": [],
   "source": []
  }
 ],
 "metadata": {
  "kernelspec": {
   "display_name": "Python 3 (ipykernel)",
   "language": "python",
   "name": "python3"
  },
  "language_info": {
   "codemirror_mode": {
    "name": "ipython",
    "version": 3
   },
   "file_extension": ".py",
   "mimetype": "text/x-python",
   "name": "python",
   "nbconvert_exporter": "python",
   "pygments_lexer": "ipython3",
   "version": "3.11.7"
  }
 },
 "nbformat": 4,
 "nbformat_minor": 5
}
